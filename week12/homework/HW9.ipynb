{
 "cells": [
  {
   "cell_type": "markdown",
   "id": "f1cfe1a3",
   "metadata": {},
   "source": [
    "# Homework 9\n",
    "\n",
    "**Due by 9 pm, Friday, April 25, 2025**\n",
    "\n",
    "## Problem 1 \n",
    "\n",
    "### Background:\n",
    "\n",
    "In a measurement, we have a single observed outcome denoted as \"k.\" The expectation of this outcome is described by a mathematical equation:\n",
    "\n",
    "$\\lambda = \\mu s + b$\n",
    "\n",
    "Where:\n",
    "\n",
    "$s$ is a fixed value of 75.\n",
    "$b$ is a fixed value of 100.\n",
    "$\\mu$ is a parameter that we need to determine by minimizing the negative log likelihood of this measurement.\n",
    "The outcome \"k\" follows a Poisson distribution with a mean value of $\\lambda$. The observed value of \"k\" is 193.\n",
    "\n",
    "### Task 1: Construct the Negative Log Likelihood Function (5 pt)\n",
    "\n",
    "Your first task is to create a Python function called NLL(mu, k) that calculates the negative log likelihood (NLL) of this measurement. This function takes two input arguments, $\\mu$ and \"k,\" and returns the corresponding NLL value.\n",
    "\n",
    "### Task 2: Find the Minimum NLL and Corresponding $\\mu$ Value using numerical Differentiation (15 pt)\n",
    "\n",
    "Next, you will use numerical differentiation to find the minimum of the NLL function and its corresponding $\\mu$ value. Follow these steps:\n",
    "\n",
    "Create a derivative function, deriv(mu), which computes the derivative of NLL with respect to $\\mu$ using the central difference method.\n",
    "\n",
    "Utilize the numerical root-finding method fsolve from the scipy.stats library to determine the $\\mu$ value where $\\frac{d\\mathrm{NLL}}{d\\mu} = 0$.\n",
    "\n",
    "Report the minimal NLL value and the corresponding $\\mu$ value obtained from this calculation.\n",
    "\n",
    "### Task 3: Visualize NLL and Its Derivative (10 pt)\n",
    "\n",
    "Create visualizations to better understand the NLL function and its derivative. Plot NLL as a function of $\\mu$ and also plot $\\frac{d\\mathrm{NLL}}{d\\mu}$ as a function of $\\mu$.\n",
    "\n",
    "### Task 4: Compare with scipy.optimize.minimize (15 pt)\n",
    "\n",
    "Compare your result from Task 2 (finding the minimum NLL) with the one obtained using the scipy.optimize.minimize function, which is another optimization approach to find the optimal $\\mu$ value.\n",
    "\n",
    "### Task 5: Offer an Analysis for Improvement (5pt)\n",
    "\n",
    "Finally, provide an analysis of how the results obtained in this problem could be improved. Discuss potential adjustments or considerations, such as refining the optimization process, choosing appropriate initial guesses, or using different optimization methods, to achieve more accurate results.\n",
    "\n",
    "This homework problem will help you practice optimization, numerical differentiation, and visualization techniques in the context of statistical modeling and parameter estimation.\n",
    "\n"
   ]
  },
  {
   "cell_type": "code",
   "execution_count": null,
   "id": "372747f7",
   "metadata": {},
   "outputs": [],
   "source": [
    "# Your code for task 1"
   ]
  },
  {
   "cell_type": "code",
   "execution_count": null,
   "id": "8d7b2d6f",
   "metadata": {},
   "outputs": [],
   "source": [
    "# Your code for task 2"
   ]
  },
  {
   "cell_type": "code",
   "execution_count": null,
   "id": "33a61db0",
   "metadata": {},
   "outputs": [],
   "source": [
    "# Your code for task 3"
   ]
  },
  {
   "cell_type": "code",
   "execution_count": null,
   "id": "aa9ec7a8",
   "metadata": {},
   "outputs": [],
   "source": [
    "# Your code for task 4"
   ]
  },
  {
   "cell_type": "markdown",
   "id": "ffaaa88f",
   "metadata": {},
   "source": [
    "**Task 5: provide your analysis here**"
   ]
  },
  {
   "cell_type": "markdown",
   "id": "f098cf79",
   "metadata": {},
   "source": [
    "# Disclosure of use of AI technologies\n",
    "\n",
    "Please indicate whether you used any AI technologies in completing this homework assignment. If you did, briefly describe how the AI tools were used."
   ]
  },
  {
   "cell_type": "markdown",
   "id": "246b53e7",
   "metadata": {},
   "source": [
    "Your statement\n"
   ]
  }
 ],
 "metadata": {
  "kernelspec": {
   "display_name": "Python 3 (ipykernel)",
   "language": "python",
   "name": "python3"
  },
  "language_info": {
   "codemirror_mode": {
    "name": "ipython",
    "version": 3
   },
   "file_extension": ".py",
   "mimetype": "text/x-python",
   "name": "python",
   "nbconvert_exporter": "python",
   "pygments_lexer": "ipython3",
   "version": "3.9.15"
  }
 },
 "nbformat": 4,
 "nbformat_minor": 5
}
