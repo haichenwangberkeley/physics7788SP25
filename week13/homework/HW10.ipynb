{
 "cells": [
  {
   "cell_type": "markdown",
   "id": "f1cfe1a3",
   "metadata": {},
   "source": [
    "# Homework 10\n",
    "\n",
    "**Due by 9 pm, Friday, May 2, 2025**\n",
    "\n",
    " "
   ]
  },
  {
   "cell_type": "markdown",
   "id": "f2788291",
   "metadata": {},
   "source": [
    "## Problem 1: Hermite Interpolation of a Robotic Arm's Motion\n",
    "\n",
    "A one-dimensional robotic arm moves along the x-axis. Its position and velocity at certain time instants are known:\n",
    "\n",
    "- At \\( t = 0 \\) seconds, the arm is at position \\( x(0) = 0 \\) units with a velocity \\( v(0) = 0 \\) units/second.\n",
    "- At \\( t = 10 \\) seconds, the arm has moved to position \\( x(10) = 10 \\) units and has a velocity \\( v(10) = 0 \\) units/second.\n",
    "- At \\( t = 20 \\) seconds, the arm returns to position \\( x(20) = 0 \\) units and slows down to a stop with a velocity \\( v(20) = 0 \\) units/second.\n",
    "\n",
    "### Tasks:\n",
    "\n",
    "1. **Hermite Interpolation**: Define the Hermite interpolation polynomial for the given data points and their corresponding velocities. (10 pt)\n",
    "2. **Visualization**: Plot the motion $x(t) $ of the robotic arm over the given time interval. Ensure the given data points are highlighted on the plot. (20 pt)\n",
    "3. **Visualization of the time derivative** Plot the velocity of the robotic arm over the given time interval. The velocity in this one-dimensional problem is simply the first time derivative of the position $x(t)$. (20 pt)\n",
    "\n",
    "### Hints:\n",
    "\n",
    "- Remember that Hermite interpolation accounts for both the function values and their derivatives at the specified points.\n",
    "- Utilize relevant libraries or tools to aid in constructing the polynomial and plotting. Specifically, you should read the documentation of the CubicHermiteSpline and understand how to use it \n",
    "https://docs.scipy.org/doc/scipy/reference/generated/scipy.interpolate.CubicHermiteSpline.html\n",
    "\n"
   ]
  },
  {
   "cell_type": "code",
   "execution_count": null,
   "id": "f098cf79",
   "metadata": {},
   "outputs": [],
   "source": [
    "# Your code here"
   ]
  }
 ],
 "metadata": {
  "kernelspec": {
   "display_name": "Python 3 (ipykernel)",
   "language": "python",
   "name": "python3"
  },
  "language_info": {
   "codemirror_mode": {
    "name": "ipython",
    "version": 3
   },
   "file_extension": ".py",
   "mimetype": "text/x-python",
   "name": "python",
   "nbconvert_exporter": "python",
   "pygments_lexer": "ipython3",
   "version": "3.9.15"
  }
 },
 "nbformat": 4,
 "nbformat_minor": 5
}
