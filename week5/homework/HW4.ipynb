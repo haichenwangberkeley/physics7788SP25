{
 "cells": [
  {
   "cell_type": "markdown",
   "id": "4687b087",
   "metadata": {},
   "source": [
    "# Homework 4\n",
    "\n",
    "**due by 9:00 pm, March 6, 2025**\n",
    "\n",
    "Submit your PDF file to Gradescope"
   ]
  },
  {
   "cell_type": "markdown",
   "id": "fbb75774",
   "metadata": {},
   "source": [
    "# Problem 1 Cardiovascular Disease dataset\n",
    "\n",
    "\n",
    "In this problem, we analyze a dataset from Kaggle\n",
    "https://www.kaggle.com/datasets/sulianova/cardiovascular-disease-dataset?datasetId=107706&sortBy=dateRun&tab=bookmarked\n",
    "\n",
    "**Data description**\n",
    "There are 3 types of input features:\n",
    "\n",
    "- Objective: factual information;\n",
    "- Examination: results of medical examination;\n",
    "- Subjective: information given by the patient.\n",
    "\n",
    "Features:\n",
    "\n",
    "1. Age | Objective Feature | age | int (days)\n",
    "2. Height | Objective Feature | height | int (cm) |\n",
    "3. Weight | Objective Feature | weight | float (kg) |\n",
    "4. Gender | Objective Feature | gender | categorical code |\n",
    "5. Systolic blood pressure | Examination Feature | ap_hi | int |\n",
    "6. Diastolic blood pressure | Examination Feature | ap_lo | int |\n",
    "7. Cholesterol | Examination Feature | cholesterol | 1: normal, 2: above normal, 3: well above normal |\n",
    "8. Glucose | Examination Feature | gluc | 1: normal, 2: above normal, 3: well above normal |\n",
    "9. Smoking | Subjective Feature | smoke | binary |\n",
    "10. Alcohol intake | Subjective Feature | alco | binary |\n",
    "11. Physical activity | Subjective Feature | active | binary |\n",
    "12. Presence or absence of cardiovascular disease | Target Variable | cardio | binary |\n",
    "All of the dataset values were collected at the moment of medical examination.\n"
   ]
  },
  {
   "cell_type": "markdown",
   "id": "d4920443",
   "metadata": {},
   "source": [
    "**wget** This is an explanation what the next code cell does.\n",
    "\n",
    "\n",
    "In a Jupyter Notebook or IPython environment, a line starting with ! is not regular Python code. Instead, it is a shell command that is executed in the system's command-line shell, not within the Python kernel or environment.\n",
    "\n",
    "Here's what the line does:\n",
    "\n",
    "`!`: The `!` character at the beginning of the line is an escape character that tells the Jupyter Notebook or IPython environment to execute the following command in the system shell (e.g., Bash, Windows Command Prompt, etc.) rather than as Python code.\n",
    "\n",
    "`wget`: `wget` is a command-line utility used for downloading files from the internet. It is commonly used in Unix-like operating systems (Linux, macOS) and is available for Windows as well. In this case, it's used to download a file from the specified URL.\n",
    "\n",
    "`https://portal.nersc.gov/project/m3438/physics77/F23/dataset/cardio_train.csv`: This is the URL of the file you want to download. wget will make an HTTP request to this URL and retrieve the file specified.\n",
    "\n",
    "So, when you execute this line in a Jupyter Notebook or IPython environment, it triggers the `wget` command to download the file `cardio_train.csv` from the given URL (`https://portal.nersc.gov/project/m3438/physics77/F23/dataset/cardio_train.csv`) to the current working directory of your system."
   ]
  },
  {
   "cell_type": "code",
   "execution_count": 2,
   "id": "7d1e43ab",
   "metadata": {},
   "outputs": [
    {
     "name": "stdout",
     "output_type": "stream",
     "text": [
      "--2025-02-27 16:48:35--  https://portal.nersc.gov/project/m3438/physics77/F23/dataset/cardio_train.csv\n",
      "128.55.206.106, 128.55.206.107, 128.55.206.108, ...\n",
      "connected. to portal.nersc.gov (portal.nersc.gov)|128.55.206.106|:443... \n",
      "HTTP request sent, awaiting response... 200 OK\n",
      "Length: 2941524 (2.8M) [text/csv]\n",
      "Saving to: ‘cardio_train.csv.1’\n",
      "\n",
      "cardio_train.csv.1  100%[===================>]   2.80M  6.01MB/s    in 0.5s    \n",
      "\n",
      "2025-02-27 16:48:36 (6.01 MB/s) - ‘cardio_train.csv.1’ saved [2941524/2941524]\n",
      "\n"
     ]
    }
   ],
   "source": [
    "# This cell download the dataset from the web\n",
    "\n",
    "!wget https://portal.nersc.gov/project/m3438/physics77/F23/dataset/cardio_train.csv\n"
   ]
  },
  {
   "cell_type": "code",
   "execution_count": 1,
   "id": "3f83c079",
   "metadata": {},
   "outputs": [
    {
     "name": "stdout",
     "output_type": "stream",
     "text": [
      "id;age;gender;height;weight;ap_hi;ap_lo;cholesterol;gluc;smoke;alco;active;cardio\n",
      "0;18393;2;168;62.0;110;80;1;1;0;0;1;0\n",
      "1;20228;1;156;85.0;140;90;3;1;0;0;1;1\n",
      "2;18857;1;165;64.0;130;70;3;1;0;0;0;1\n",
      "3;17623;2;169;82.0;150;100;1;1;0;0;1;1\n",
      "4;17474;1;156;56.0;100;60;1;1;0;0;0;0\n",
      "8;21914;1;151;67.0;120;80;2;2;0;0;0;0\n",
      "9;22113;1;157;93.0;130;80;3;1;0;0;1;0\n",
      "12;22584;2;178;95.0;130;90;3;3;0;0;1;1\n",
      "13;17668;1;158;71.0;110;70;1;1;0;0;1;0\n"
     ]
    }
   ],
   "source": [
    "# Display the first 10 lines of the file 'cardio_train.csv' using the 'head' command.\n",
    "# Pay attention to the header (the first line in the printout)\n",
    "# You will need to use the header to associate the position of entries to the quantity (age, blood pressure, etc.)\n",
    "!head -n 10 cardio_train.csv\n"
   ]
  },
  {
   "cell_type": "markdown",
   "id": "95a999d7",
   "metadata": {},
   "source": [
    "The CSV file is delimited by semicolons (`;`). From the header, we can infer the following columns and their potential meanings:\n",
    "\n",
    "- `id` - A unique identifier for each sample.\n",
    "- `age` - Age of the individual (likely in days, given the large numbers).\n",
    "- `gender` - Gender of the individual. The values are numeric, so we might need further information or analysis to determine which numbers correspond to which genders.\n",
    "- `height` - Height of the individual, likely in centimeters.\n",
    "- `weight` - Weight of the individual, possibly in kilograms.\n",
    "- `ap_hi` - Systolic blood pressure.\n",
    "- `ap_lo` - Diastolic blood pressure.\n",
    "- `cholesterol` - Cholesterol level. This seems to be a categorical variable with numeric values.\n",
    "- `gluc` - Glucose level. This also appears to be a categorical variable with numeric values.\n",
    "- `smoke` - Whether the individual smokes or not. This is likely a binary variable (0 for non-smokers, 1 for smokers).\n",
    "- `alco` - Whether the individual consumes alcohol or not. This is probably a binary variable as well.\n",
    "- `active` - Whether the individual is physically active. Again, likely a binary variable.\n",
    "- `cardio` - Whether the individual has a cardiovascular disease or not. This is presumably the target variable, and it is binary."
   ]
  },
  {
   "cell_type": "code",
   "execution_count": 2,
   "id": "796855d6",
   "metadata": {},
   "outputs": [],
   "source": [
    "# Import the numpy library and alias it as 'np'\n",
    "import numpy as np\n",
    "\n",
    "# Use numpy's 'genfromtxt' function to read data from the file 'cardio_train.csv'\n",
    "# 'delimiter' specifies that the data is separated by semicolons (';')\n",
    "# 'skip_header=1' indicates that the first row (header) of the file should be skipped\n",
    "data = np.genfromtxt('cardio_train.csv', delimiter=';', skip_header=1)"
   ]
  },
  {
   "cell_type": "markdown",
   "id": "e947349a",
   "metadata": {},
   "source": [
    "## Part 1.1: write a helper function that  \n",
    "- prints the dimension, shape, and size of this numpy array. \n",
    "- The helper function should also print the array itself\n",
    "(10 pts)"
   ]
  },
  {
   "cell_type": "code",
   "execution_count": 4,
   "id": "23d71cb2",
   "metadata": {},
   "outputs": [],
   "source": [
    "# Develop your code here. 10 pts"
   ]
  },
  {
   "cell_type": "markdown",
   "id": "653b79d5",
   "metadata": {},
   "source": [
    "## Part 1.2: Characterize the age of the sample\n",
    "- Create a numpy array named `age`, which should be in the unit of years. You can use 1 year = 365 days for this calculation. Reshape the numpy array so that it has a shape of (N,1), i.e., a two-dimensional array where $N$ is the number of entries in this sample ( also the number of entries on axis 0 in the data array)  (10 pts)\n",
    "    - Hint: Each entry on the axis 0 is a sample (a person). Their age data is one of the entries on axis 1. So you want to keep all the age entries regardless of the axis-0 position.  \n",
    "- Calculate the mean and standard deviation of the age distribution, as well as the median age. (10 pts)\n",
    "- Create a new numpy array named `newdata`, in which the original age entries are removed. Hstack the age array with newdata, so that the newdata array has its last column (the last entry on its axis 1 as the age in years). Use the helper function from part 1.1 to print out this new numpy array. (20 pts)"
   ]
  },
  {
   "cell_type": "code",
   "execution_count": 5,
   "id": "0670afaa",
   "metadata": {},
   "outputs": [],
   "source": [
    "# Develop your code here  10 + 10 + 20 = 40 pts\n"
   ]
  },
  {
   "cell_type": "markdown",
   "id": "fb09a046-23c2-42fb-943d-b8acaf16988c",
   "metadata": {},
   "source": [
    "What are the values of the mean, median, and standard deviation of this sample? \n",
    "\n",
    "- complete this cell to receive credit\n",
    "\n",
    "Your answer:\n"
   ]
  },
  {
   "cell_type": "markdown",
   "id": "308150cb",
   "metadata": {},
   "source": [
    "## Part 1.3: BMI  \n",
    "\n",
    "BMI, or Body Mass Index, is a numerical value derived from an individual's weight and height. It is a commonly used tool to assess whether a person has a healthy body weight for their height. BMI is calculated using the following formula:\n",
    "\n",
    "$\\huge \\mathrm{BMI} =\\frac{weight}{height^2} $\n",
    "\n",
    "where the units of weight and height are kilogram and meter, respectively\n",
    "\n",
    "**Part 1.3.1:Produce the BMI for entries of this sample**  (10 pts for calculating BMI properly and 10 pts for finding the maximum BMI value)\n",
    "\n",
    "- This requires you obtain the weight and height from the data numpy array. Each of these two quantities are corresponding to entries on the axis 1 of the numpy array `data`. To get the weight and height, you can follow the procedure established for Part 2 of this problem.  \n",
    "- Make sure you convert the unit of height data properly. The formula is valid for height in meters, while the numpy array contains height data in cm\n",
    "- What is the largest BMI value from this dataset? (I leave it to you to google search how to find the maximum value of a numpy array) (10 pts)\n",
    "\n",
    "**Part 1.3.2: what is the fraction of the samples that have a BMI smaller than 25?** (10 pts)\n",
    "- hints: first, you need to know the total number of samples in this dataset. That number is the number of entries on axis 0 of `data`. Second, you need to apply a selection that only keeps the entries of `data` or your BMI numpy array where the BMI value is smaller than 25.\n",
    "\n",
    "**Part 1.3.3: add the BMI back to the numpy array `newdata` so that each entry on axis 0 has an entry corresponding to the BMI. Use the helper function from Part 1.1 to print out the details of the updated newdata numpy array.** (10 pts)"
   ]
  },
  {
   "cell_type": "code",
   "execution_count": 6,
   "id": "532eadda",
   "metadata": {},
   "outputs": [],
   "source": [
    "# Develop your code here 10 + 10 + 10 + 10 = 40 pts"
   ]
  },
  {
   "cell_type": "markdown",
   "id": "84691bdf-75c6-4966-a5a4-5e79b3545356",
   "metadata": {},
   "source": [
    "## Part 1.4 Save the updated data into a csv file\n",
    "- follow the example from the lecture on Monday. Save the `newdata` array in a csv file, with a proper header.\n",
    "- this file will be used for future workshop and homework assignments\n",
    "- use file name `cardio_data.csv`\n",
    "\n",
    "10 pts"
   ]
  },
  {
   "cell_type": "code",
   "execution_count": 7,
   "id": "2c97b711-fd0d-4088-9ac0-28a996ac6595",
   "metadata": {},
   "outputs": [],
   "source": [
    "# Develop your code here 10 pts"
   ]
  },
  {
   "cell_type": "code",
   "execution_count": 8,
   "id": "87ddde93-f4d9-4154-b613-0651162565b4",
   "metadata": {},
   "outputs": [
    {
     "name": "stdout",
     "output_type": "stream",
     "text": [
      "cat: cardio_data.csv: No such file or directory\n"
     ]
    }
   ],
   "source": [
    "# Execute this cell to show the content of the csv file \n",
    "! cat cardio_data.csv"
   ]
  },
  {
   "cell_type": "markdown",
   "id": "0a9a6374-f88c-42ef-b1a5-0101363ce154",
   "metadata": {},
   "source": [
    "## Required disclosure of use of AI technologies for homework assignment\n",
    "Please indicate whether you used AI to complete this homework. If you did, explain how you used it in this markdown cell.\n",
    "\n",
    "**Without completing the answer below, you will receive 0 points for this entire homework assignment.**\n"
   ]
  },
  {
   "cell_type": "markdown",
   "id": "670c403e-86d1-4875-8742-a5d63c509f42",
   "metadata": {},
   "source": [
    "Your statement -"
   ]
  },
  {
   "cell_type": "code",
   "execution_count": null,
   "id": "476ce8d1-e609-4145-a99e-c89505e51a8a",
   "metadata": {},
   "outputs": [],
   "source": []
  }
 ],
 "metadata": {
  "kernelspec": {
   "display_name": "Python 3 (ipykernel)",
   "language": "python",
   "name": "python3"
  },
  "language_info": {
   "codemirror_mode": {
    "name": "ipython",
    "version": 3
   },
   "file_extension": ".py",
   "mimetype": "text/x-python",
   "name": "python",
   "nbconvert_exporter": "python",
   "pygments_lexer": "ipython3",
   "version": "3.11.11"
  }
 },
 "nbformat": 4,
 "nbformat_minor": 5
}
